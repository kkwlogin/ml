{
 "cells": [
  {
   "cell_type": "code",
   "execution_count": 5,
   "id": "4ccf707e-9e76-4161-bcf4-8c461f57331a",
   "metadata": {},
   "outputs": [],
   "source": [
    "import pandas as pd"
   ]
  },
  {
   "cell_type": "code",
   "execution_count": 7,
   "id": "42eeeec3-b70a-49d2-a99f-fac18922b622",
   "metadata": {},
   "outputs": [],
   "source": [
    "import numpy as np"
   ]
  },
  {
   "cell_type": "code",
   "execution_count": 9,
   "id": "282bbafd-be87-4a63-ad01-227956a445ae",
   "metadata": {},
   "outputs": [],
   "source": [
    "data = pd.read_csv(\"C:/Users/LENOVO/Downloads/archive/heart.csv\")"
   ]
  },
  {
   "cell_type": "code",
   "execution_count": 7,
   "id": "169bfaf7-a905-402e-b405-4d1b2f832e19",
   "metadata": {},
   "outputs": [
    {
     "name": "stdout",
     "output_type": "stream",
     "text": [
      "First few rows of the dataset:\n",
      "   Unnamed: 0  Age  Sex     ChestPain  RestBP  Chol  Fbs  RestECG  MaxHR  \\\n",
      "0           1   63    1       typical     145   233    1        2    150   \n",
      "1           2   67    1  asymptomatic     160   286    0        2    108   \n",
      "2           3   67    1  asymptomatic     120   229    0        2    129   \n",
      "3           4   37    1    nonanginal     130   250    0        0    187   \n",
      "4           5   41    0    nontypical     130   204    0        2    172   \n",
      "\n",
      "   ExAng  Oldpeak  Slope   Ca        Thal  AHD  \n",
      "0      0      2.3      3  0.0       fixed   No  \n",
      "1      1      1.5      2  3.0      normal  Yes  \n",
      "2      1      2.6      2  2.0  reversable  Yes  \n",
      "3      0      3.5      3  0.0      normal   No  \n",
      "4      0      1.4      1  0.0      normal   No  \n"
     ]
    }
   ],
   "source": [
    "print(\"First few rows of the dataset:\")\n",
    "print(data.head())"
   ]
  },
  {
   "cell_type": "code",
   "execution_count": 9,
   "id": "f4d8276e-4842-4718-bffb-8418dd8e4915",
   "metadata": {},
   "outputs": [
    {
     "name": "stdout",
     "output_type": "stream",
     "text": [
      "Number of duplicate rows: {duplicates}\n"
     ]
    }
   ],
   "source": [
    "duplicates = data.duplicated().sum()\n",
    "print(\"Number of duplicate rows: {duplicates}\")"
   ]
  },
  {
   "cell_type": "code",
   "execution_count": 11,
   "id": "e47c587f-a93e-4a5d-99d7-11032b278e96",
   "metadata": {},
   "outputs": [
    {
     "name": "stdout",
     "output_type": "stream",
     "text": [
      "Number of duplicate rows: 0\n"
     ]
    }
   ],
   "source": [
    "duplicates = data.duplicated().sum()\n",
    "print(f\"Number of duplicate rows: {duplicates}\")\n"
   ]
  },
  {
   "cell_type": "code",
   "execution_count": 13,
   "id": "e17782c9-833b-4e2c-bb55-25493dc4e0f6",
   "metadata": {},
   "outputs": [],
   "source": [
    "data_cleaned = data.drop_duplicates()"
   ]
  },
  {
   "cell_type": "code",
   "execution_count": 17,
   "id": "118bdc0e-fafb-4a56-9e11-d045600ee76f",
   "metadata": {},
   "outputs": [
    {
     "name": "stdout",
     "output_type": "stream",
     "text": [
      "Number of rows after removing duplicates: 303\n"
     ]
    }
   ],
   "source": [
    "print(f\"Number of rows after removing duplicates: {data_cleaned.shape[0]}\")"
   ]
  },
  {
   "cell_type": "code",
   "execution_count": 19,
   "id": "f1cd7228-753c-448a-ae13-9b0f681645cb",
   "metadata": {},
   "outputs": [
    {
     "name": "stdout",
     "output_type": "stream",
     "text": [
      "Unnamed: 0    0\n",
      "Age           0\n",
      "Sex           0\n",
      "ChestPain     0\n",
      "RestBP        0\n",
      "Chol          0\n",
      "Fbs           0\n",
      "RestECG       0\n",
      "MaxHR         0\n",
      "ExAng         0\n",
      "Oldpeak       0\n",
      "Slope         0\n",
      "Ca            4\n",
      "Thal          2\n",
      "AHD           0\n",
      "dtype: int64\n"
     ]
    }
   ],
   "source": [
    "missing_values = data_cleaned.isnull().sum()\n",
    "print(missing_values)"
   ]
  },
  {
   "cell_type": "code",
   "execution_count": 23,
   "id": "832f3e7b-6e8a-4b0b-888f-edc25e85967a",
   "metadata": {},
   "outputs": [],
   "source": [
    "data_cleaned.to_csv('heart_cleaned.csv', index=False)"
   ]
  },
  {
   "cell_type": "code",
   "execution_count": 29,
   "id": "2342cdbf-6f56-4d1d-a6e7-8f86f885dfc1",
   "metadata": {},
   "outputs": [],
   "source": [
    "for column in data.columns:\n",
    "    if data[column].isnull().sum() > 0:\n",
    "        if data[column].dtype in ['float64', 'int64']:  # Ensure the column is numeric\n",
    "            median_value = data[column].median()\n",
    "            data[column].fillna(median_value, inplace=True)\n"
   ]
  },
  {
   "cell_type": "code",
   "execution_count": 31,
   "id": "13bc8b72-1f70-43ca-bde1-a37399ecac19",
   "metadata": {},
   "outputs": [
    {
     "name": "stdout",
     "output_type": "stream",
     "text": [
      "Missing values in each column after handling:\n",
      "Unnamed: 0    0\n",
      "Age           0\n",
      "Sex           0\n",
      "ChestPain     0\n",
      "RestBP        0\n",
      "Chol          0\n",
      "Fbs           0\n",
      "RestECG       0\n",
      "MaxHR         0\n",
      "ExAng         0\n",
      "Oldpeak       0\n",
      "Slope         0\n",
      "Ca            0\n",
      "Thal          2\n",
      "AHD           0\n",
      "dtype: int64\n"
     ]
    }
   ],
   "source": [
    "missing_values_after= data.isnull().sum()\n",
    "print(\"Missing values in each column after handling:\")\n",
    "print(missing_values_after)"
   ]
  },
  {
   "cell_type": "code",
   "execution_count": 11,
   "id": "0fe2d959-9a0c-4002-986a-ea0d300ea3ef",
   "metadata": {},
   "outputs": [],
   "source": [
    "numerical_features = data.select_dtypes(include=['float64', 'int64']).columns\n"
   ]
  },
  {
   "cell_type": "code",
   "execution_count": 13,
   "id": "e3fac2ce-26ae-4133-9b11-40f024a2f00a",
   "metadata": {},
   "outputs": [
    {
     "name": "stdout",
     "output_type": "stream",
     "text": [
      "Index(['Unnamed: 0', 'Age', 'Sex', 'RestBP', 'Chol', 'Fbs', 'RestECG', 'MaxHR',\n",
      "       'ExAng', 'Oldpeak', 'Slope', 'Ca'],\n",
      "      dtype='object')\n"
     ]
    }
   ],
   "source": [
    "print(numerical_features)"
   ]
  },
  {
   "cell_type": "code",
   "execution_count": 17,
   "id": "8eb4e71f-a7bf-4933-a2d6-257f39418de3",
   "metadata": {},
   "outputs": [],
   "source": [
    "from sklearn.preprocessing import StandardScaler\n"
   ]
  },
  {
   "cell_type": "code",
   "execution_count": 19,
   "id": "000a36ac-c5b3-4902-b5e4-83f2091fc6b9",
   "metadata": {},
   "outputs": [],
   "source": [
    "scaler = StandardScaler()\n"
   ]
  },
  {
   "cell_type": "code",
   "execution_count": 21,
   "id": "955dd088-6933-4cfd-87e4-dfbc44e884e5",
   "metadata": {},
   "outputs": [],
   "source": [
    "data[numerical_features]= scaler.fit_transform(data[numerical_features])"
   ]
  },
  {
   "cell_type": "code",
   "execution_count": 23,
   "id": "db999afc-549f-4943-8f19-49c078e9b4a6",
   "metadata": {},
   "outputs": [
    {
     "name": "stdout",
     "output_type": "stream",
     "text": [
      "Data after scaling:\n",
      "   Unnamed: 0       Age       Sex     ChestPain    RestBP      Chol       Fbs  \\\n",
      "0   -1.726344  0.948726  0.686202       typical  0.757525 -0.264900  2.394438   \n",
      "1   -1.714911  1.392002  0.686202  asymptomatic  1.611220  0.760415 -0.417635   \n",
      "2   -1.703478  1.392002  0.686202  asymptomatic -0.665300 -0.342283 -0.417635   \n",
      "3   -1.692046 -1.932564  0.686202    nonanginal -0.096170  0.063974 -0.417635   \n",
      "4   -1.680613 -1.489288 -1.457296    nontypical -0.096170 -0.825922 -0.417635   \n",
      "\n",
      "    RestECG     MaxHR     ExAng   Oldpeak     Slope        Ca        Thal  AHD  \n",
      "0  1.016684  0.017197 -0.696631  1.087338  2.274579 -0.718306       fixed   No  \n",
      "1  1.016684 -1.821905  1.435481  0.397182  0.649113  2.487269      normal  Yes  \n",
      "2  1.016684 -0.902354  1.435481  1.346147  0.649113  1.418744  reversable  Yes  \n",
      "3 -0.996749  1.637359 -0.696631  2.122573  2.274579 -0.718306      normal   No  \n",
      "4  1.016684  0.980537 -0.696631  0.310912 -0.976352 -0.718306      normal   No  \n"
     ]
    }
   ],
   "source": [
    "print(\"Data after scaling:\")\n",
    "print(data.head())"
   ]
  },
  {
   "cell_type": "code",
   "execution_count": 27,
   "id": "0def4f39-2080-4a09-9c89-8055b356d4de",
   "metadata": {},
   "outputs": [],
   "source": [
    "from sklearn.model_selection import train_test_split\n"
   ]
  },
  {
   "cell_type": "code",
   "execution_count": 29,
   "id": "e26080a0-44b6-4a9c-a5ea-3b356e2c912b",
   "metadata": {},
   "outputs": [],
   "source": [
    "train_data, test_data = train_test_split(data, test_size=0.25, random_state=42)\n"
   ]
  },
  {
   "cell_type": "code",
   "execution_count": 31,
   "id": "6faaca7b-536d-481f-a69f-f895d8523be7",
   "metadata": {},
   "outputs": [
    {
     "name": "stdout",
     "output_type": "stream",
     "text": [
      "Training data size: (227, 15)\n",
      "Testing data size: (76, 15)\n"
     ]
    }
   ],
   "source": [
    "print(\"Training data size:\",train_data.shape)\n",
    "print(\"Testing data size:\",test_data.shape)"
   ]
  }
 ],
 "metadata": {
  "kernelspec": {
   "display_name": "Python 3 (ipykernel)",
   "language": "python",
   "name": "python3"
  },
  "language_info": {
   "codemirror_mode": {
    "name": "ipython",
    "version": 3
   },
   "file_extension": ".py",
   "mimetype": "text/x-python",
   "name": "python",
   "nbconvert_exporter": "python",
   "pygments_lexer": "ipython3",
   "version": "3.12.4"
  }
 },
 "nbformat": 4,
 "nbformat_minor": 5
}
