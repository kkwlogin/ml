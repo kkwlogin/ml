{
 "cells": [
  {
   "cell_type": "code",
   "execution_count": 1,
   "id": "1fe2ee0d",
   "metadata": {},
   "outputs": [],
   "source": [
    "import pandas as pd\n",
    "import numpy as np\n",
    "from sklearn.preprocessing import StandardScaler\n",
    "from sklearn.model_selection import train_test_split\n"
   ]
  },
  {
   "cell_type": "code",
   "execution_count": 4,
   "id": "124398f2",
   "metadata": {},
   "outputs": [],
   "source": [
    "data = pd.read_csv(\"C:/Users/91992/OneDrive/Documents/sem-5/MLL/Heart.csv\")"
   ]
  },
  {
   "cell_type": "code",
   "execution_count": 5,
   "id": "d8d5f3d3",
   "metadata": {},
   "outputs": [
    {
     "name": "stdout",
     "output_type": "stream",
     "text": [
      "First few rows of the dataset:\n",
      "   Unnamed: 0  Age  Sex     ChestPain  RestBP  Chol  Fbs  RestECG  MaxHR  \\\n",
      "0           1   63    1       typical     145   233    1        2    150   \n",
      "1           2   67    1  asymptomatic     160   286    0        2    108   \n",
      "2           3   67    1  asymptomatic     120   229    0        2    129   \n",
      "3           4   37    1    nonanginal     130   250    0        0    187   \n",
      "4           5   41    0    nontypical     130   204    0        2    172   \n",
      "\n",
      "   ExAng  Oldpeak  Slope   Ca        Thal  AHD  \n",
      "0      0      2.3      3  0.0       fixed   No  \n",
      "1      1      1.5      2  3.0      normal  Yes  \n",
      "2      1      2.6      2  2.0  reversable  Yes  \n",
      "3      0      3.5      3  0.0      normal   No  \n",
      "4      0      1.4      1  0.0      normal   No  \n"
     ]
    }
   ],
   "source": [
    "print(\"First few rows of the dataset:\")\n",
    "print(data.head())"
   ]
  },
  {
   "cell_type": "code",
   "execution_count": 15,
   "id": "62e3b018",
   "metadata": {},
   "outputs": [
    {
     "name": "stdout",
     "output_type": "stream",
     "text": [
      " Number of duplicate rows: 0\n",
      " Number of rows after removing duplicates: 303\n"
     ]
    }
   ],
   "source": [
    "duplicates = data.duplicated().sum()\n",
    "print(f\" Number of duplicate rows: {duplicates}\")\n",
    "data = data.drop_duplicates()\n",
    "print(f\" Number of rows after removing duplicates: {data.shape[0]}\")\n"
   ]
  },
  {
   "cell_type": "code",
   "execution_count": 7,
   "id": "49b3eaa7",
   "metadata": {},
   "outputs": [
    {
     "name": "stdout",
     "output_type": "stream",
     "text": [
      "Missing values in each column before handling:\n",
      "Unnamed: 0    0\n",
      "Age           0\n",
      "Sex           0\n",
      "ChestPain     0\n",
      "RestBP        0\n",
      "Chol          0\n",
      "Fbs           0\n",
      "RestECG       0\n",
      "MaxHR         0\n",
      "ExAng         0\n",
      "Oldpeak       0\n",
      "Slope         0\n",
      "Ca            4\n",
      "Thal          2\n",
      "AHD           0\n",
      "dtype: int64\n"
     ]
    }
   ],
   "source": [
    "print(\"Missing values in each column before handling:\")\n",
    "print(data.isnull().sum())"
   ]
  },
  {
   "cell_type": "code",
   "execution_count": 8,
   "id": "ddb9e819",
   "metadata": {},
   "outputs": [
    {
     "name": "stderr",
     "output_type": "stream",
     "text": [
      "C:\\Users\\91992\\AppData\\Local\\Temp\\ipykernel_26100\\3521881985.py:5: FutureWarning: A value is trying to be set on a copy of a DataFrame or Series through chained assignment using an inplace method.\n",
      "The behavior will change in pandas 3.0. This inplace method will never work because the intermediate object on which we are setting values always behaves as a copy.\n",
      "\n",
      "For example, when doing 'df[col].method(value, inplace=True)', try using 'df.method({col: value}, inplace=True)' or df[col] = df[col].method(value) instead, to perform the operation inplace on the original object.\n",
      "\n",
      "\n",
      "  data[column].fillna(median_value, inplace=True)\n"
     ]
    }
   ],
   "source": [
    "for column in data.columns:\n",
    "    if data[column].isnull().sum() > 0:\n",
    "        if data[column].dtype in ['float64', 'int64']:\n",
    "            median_value = data[column].median()\n",
    "            data[column].fillna(median_value, inplace=True)\n"
   ]
  },
  {
   "cell_type": "code",
   "execution_count": 9,
   "id": "7203a4fe",
   "metadata": {},
   "outputs": [
    {
     "name": "stdout",
     "output_type": "stream",
     "text": [
      "Missing values in each column after handling:\n",
      "Unnamed: 0    0\n",
      "Age           0\n",
      "Sex           0\n",
      "ChestPain     0\n",
      "RestBP        0\n",
      "Chol          0\n",
      "Fbs           0\n",
      "RestECG       0\n",
      "MaxHR         0\n",
      "ExAng         0\n",
      "Oldpeak       0\n",
      "Slope         0\n",
      "Ca            0\n",
      "Thal          2\n",
      "AHD           0\n",
      "dtype: int64\n"
     ]
    }
   ],
   "source": [
    "print(\"Missing values in each column after handling:\")\n",
    "print(data.isnull().sum())"
   ]
  },
  {
   "cell_type": "code",
   "execution_count": 10,
   "id": "cfcdb964",
   "metadata": {},
   "outputs": [],
   "source": [
    "numerical_features = data.select_dtypes(include=['float64', 'int64']).columns\n",
    "scaler = StandardScaler()\n",
    "data[numerical_features] = scaler.fit_transform(data[numerical_features])\n"
   ]
  },
  {
   "cell_type": "code",
   "execution_count": 11,
   "id": "459ef354",
   "metadata": {},
   "outputs": [
    {
     "name": "stdout",
     "output_type": "stream",
     "text": [
      "Data after scaling (first 5 rows):\n",
      "   Unnamed: 0       Age       Sex     ChestPain    RestBP      Chol       Fbs  \\\n",
      "0   -1.726344  0.948726  0.686202       typical  0.757525 -0.264900  2.394438   \n",
      "1   -1.714911  1.392002  0.686202  asymptomatic  1.611220  0.760415 -0.417635   \n",
      "2   -1.703478  1.392002  0.686202  asymptomatic -0.665300 -0.342283 -0.417635   \n",
      "3   -1.692046 -1.932564  0.686202    nonanginal -0.096170  0.063974 -0.417635   \n",
      "4   -1.680613 -1.489288 -1.457296    nontypical -0.096170 -0.825922 -0.417635   \n",
      "\n",
      "    RestECG     MaxHR     ExAng   Oldpeak     Slope        Ca        Thal  AHD  \n",
      "0  1.016684  0.017197 -0.696631  1.087338  2.274579 -0.711131       fixed   No  \n",
      "1  1.016684 -1.821905  1.435481  0.397182  0.649113  2.504881      normal  Yes  \n",
      "2  1.016684 -0.902354  1.435481  1.346147  0.649113  1.432877  reversable  Yes  \n",
      "3 -0.996749  1.637359 -0.696631  2.122573  2.274579 -0.711131      normal   No  \n",
      "4  1.016684  0.980537 -0.696631  0.310912 -0.976352 -0.711131      normal   No  \n"
     ]
    }
   ],
   "source": [
    "print(\"Data after scaling (first 5 rows):\")\n",
    "print(data.head())\n"
   ]
  },
  {
   "cell_type": "code",
   "execution_count": 12,
   "id": "8933b828",
   "metadata": {},
   "outputs": [
    {
     "name": "stdout",
     "output_type": "stream",
     "text": [
      "Training data size: (227, 15)\n",
      "Testing data size: (76, 15)\n"
     ]
    }
   ],
   "source": [
    "train_data, test_data = train_test_split(data, test_size=0.25, random_state=42)\n",
    "\n",
    "print(\"Training data size:\", train_data.shape)\n",
    "print(\"Testing data size:\", test_data.shape)"
   ]
  },
  {
   "cell_type": "code",
   "execution_count": null,
   "id": "69c77d02",
   "metadata": {},
   "outputs": [],
   "source": []
  }
 ],
 "metadata": {
  "kernelspec": {
   "display_name": "Python 3.12",
   "language": "python",
   "name": "python312"
  },
  "language_info": {
   "codemirror_mode": {
    "name": "ipython",
    "version": 3
   },
   "file_extension": ".py",
   "mimetype": "text/x-python",
   "name": "python",
   "nbconvert_exporter": "python",
   "pygments_lexer": "ipython3",
   "version": "3.12.4"
  }
 },
 "nbformat": 4,
 "nbformat_minor": 5
}
